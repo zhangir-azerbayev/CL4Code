{
 "cells": [
  {
   "cell_type": "code",
   "execution_count": 1,
   "id": "db510628",
   "metadata": {},
   "outputs": [],
   "source": [
    "# Load training data\n",
    "import random \n",
    "\n",
    "from dataset import read_mathqapython, read_gsm8k\n",
    "\n",
    "from transformers import GPT2Tokenizer\n",
    "tokenizer = GPT2Tokenizer.from_pretrained('EleutherAI/gpt-neo-125M')\n",
    "\n",
    "import matplotlib.pyplot as plt"
   ]
  },
  {
   "cell_type": "markdown",
   "id": "be38f895",
   "metadata": {},
   "source": [
    "# Training Set"
   ]
  },
  {
   "cell_type": "code",
   "execution_count": 6,
   "id": "441f8e16",
   "metadata": {},
   "outputs": [
    {
     "name": "stdout",
     "output_type": "stream",
     "text": [
      "# if x = 1 - 3 t and y = 2 t - 3 , then for what value of t does x = y ? n0 = 1.0 n1 = 3.0 n2 = 2.0 n3 = 3.0\n",
      "n0 = 1.0\n",
      "n1 = 3.0\n",
      "n2 = 2.0\n",
      "n3 = 3.0\n",
      "t0 = n0 + n3\n",
      "t1 = n1 + n2\n",
      "answer = t0 / t1\n",
      "\n",
      "# a train running at the speed of 180 km / hr crosses a pole in 8 seconds . find the length of the train . n0 = 180.0 n1 = 8.0\n",
      "n0 = 180.0\n",
      "n1 = 8.0\n",
      "t0 = n0 * 1000.0\n",
      "t1 = t0 / 3600.0\n",
      "answer = n1 * t1\n",
      "\n",
      "# in a maths test , students were asked to find 5 / 16 of a certain number . one of the students by mistake found 5 / 6 th of that number and his answer was 50 more than the correct answer . find the number . n0 = 5.0 n1 = 16.0 n2 = 5.0 n3 = 6.0 n4 = 50.0\n",
      "n0 = 5.0\n",
      "n1 = 16.0\n",
      "n2 = 5.0\n",
      "n3 = 6.0\n",
      "n4 = 50.0\n",
      "t0 = n1 * n4\n",
      "t1 = n0 * n1\n",
      "t2 = n0 * n3\n",
      "t3 = n3 * t0\n",
      "t4 = t1 - t2\n",
      "answer = t3 / t4\n",
      "\n"
     ]
    }
   ],
   "source": [
    "data = read_mathqapython('mathqapython_train.json')\n",
    "\n",
    "# Print a few representative instances\n",
    "idxs = random.sample(range(len(data)), 3)\n",
    "\n",
    "for i in idxs: \n",
    "    instance = data[i]\n",
    "    print(instance.text + '\\n' + instance.code + '\\n')"
   ]
  },
  {
   "cell_type": "markdown",
   "id": "ac3b0db5",
   "metadata": {},
   "source": [
    "### Text + code lengths"
   ]
  },
  {
   "cell_type": "code",
   "execution_count": 7,
   "id": "fe5c3b9d",
   "metadata": {},
   "outputs": [],
   "source": [
    "# Look at lengths of combined text + code\n",
    "full_lengths = [(len(tokenizer.encode(x.text + '\\n' + x.code)), i) for i, x in enumerate(data)]"
   ]
  },
  {
   "cell_type": "code",
   "execution_count": 8,
   "id": "a8a4e8ee",
   "metadata": {},
   "outputs": [
    {
     "data": {
      "image/png": "[encoded data removed]",
      "text/plain": [
       "<Figure size 432x288 with 1 Axes>"
      ]
     },
     "metadata": {
      "needs_background": "light"
     },
     "output_type": "display_data"
    }
   ],
   "source": [
    "plt.hist([t[0] for t in full_lengths])\n",
    "plt.xlabel('Text + code token length')\n",
    "plt.show()"
   ]
  },
  {
   "cell_type": "code",
   "execution_count": 9,
   "id": "be234811",
   "metadata": {},
   "outputs": [
    {
     "name": "stdout",
     "output_type": "stream",
     "text": [
      "Length of 10 longest text+codes\n",
      "662\n",
      "614\n",
      "527\n",
      "523\n",
      "486\n",
      "470\n",
      "465\n",
      "412\n",
      "411\n",
      "398\n"
     ]
    }
   ],
   "source": [
    "# Top 10 longest text + codes \n",
    "sorted_full_lengths = sorted(full_lengths, key = lambda t: -t[0])\n",
    "\n",
    "print(\"Length of 10 longest text+codes\")\n",
    "for i in range(10): \n",
    "    print(sorted_full_lengths[i][0])"
   ]
  },
  {
   "cell_type": "code",
   "execution_count": 24,
   "id": "2ba7b2dd",
   "metadata": {},
   "outputs": [
    {
     "name": "stdout",
     "output_type": "stream",
     "text": [
      "# in two alloys , copper and tin are related in the ratios of 4 : 1 and 1 : 3 . 10 kg of ist alloy , 16 kg of 2 nd alloy and some pure copper melted together . an alloy obtained in which the ratio of copper and tin was 3 : 2 . find the weight of the new alloy . n0 = 4.0 n1 = 1.0 n2 = 1.0 n3 = 3.0 n4 = 10.0 n5 = 16.0 n6 = 2.0 n7 = 3.0 n8 = 2.0\n",
      "n0 = 4.0\n",
      "n1 = 1.0\n",
      "n2 = 1.0\n",
      "n3 = 3.0\n",
      "n4 = 10.0\n",
      "n5 = 16.0\n",
      "n6 = 2.0\n",
      "n7 = 3.0\n",
      "n8 = 2.0\n",
      "t0 = n4 + n5\n",
      "t1 = n0 + n1\n",
      "t2 = n3 / n0\n",
      "t3 = n4 / t1\n",
      "t4 = n5 * t2\n",
      "t5 = t3 + t4\n",
      "t6 = n3 * t5\n",
      "t7 = t6 / n6\n",
      "t8 = t7 - t4\n",
      "answer = t0 + t8\n"
     ]
    }
   ],
   "source": [
    "# Out of curiosity, show the longest text + code\n",
    "i = sorted_full_lengths[200][1]\n",
    "x = data[i]\n",
    "\n",
    "print(x.text + '\\n' + x.code)"
   ]
  },
  {
   "cell_type": "markdown",
   "id": "180c864b",
   "metadata": {},
   "source": [
    "# Val + Test Set"
   ]
  },
  {
   "cell_type": "code",
   "execution_count": 18,
   "id": "12ccaf70",
   "metadata": {},
   "outputs": [],
   "source": [
    "evals = read_mathqapython(\"mathqapython_dev.json\") + read_mathqapython(\"mathqapython_test.json\")"
   ]
  },
  {
   "cell_type": "markdown",
   "id": "779204e6",
   "metadata": {},
   "source": [
    "### Code lengths"
   ]
  },
  {
   "cell_type": "code",
   "execution_count": 29,
   "id": "f3377c31",
   "metadata": {},
   "outputs": [],
   "source": [
    "code_lengths = [(len(tokenizer.encode(x.code)), i) for i, x in enumerate(evals)]"
   ]
  },
  {
   "cell_type": "code",
   "execution_count": 30,
   "id": "cc002ad7",
   "metadata": {},
   "outputs": [
    {
     "data": {
      "image/png": "[encoded data removed]",
      "text/plain": [
       "<Figure size 432x288 with 1 Axes>"
      ]
     },
     "metadata": {
      "needs_background": "light"
     },
     "output_type": "display_data"
    }
   ],
   "source": [
    "plt.hist([t[0] for t in code_lengths])\n",
    "plt.xlabel('Code token length')\n",
    "plt.show()"
   ]
  },
  {
   "cell_type": "code",
   "execution_count": 31,
   "id": "345af98b",
   "metadata": {},
   "outputs": [
    {
     "name": "stdout",
     "output_type": "stream",
     "text": [
      "Length of 10 longest text+codes\n",
      "257\n",
      "253\n",
      "253\n",
      "251\n",
      "234\n",
      "222\n",
      "222\n",
      "221\n",
      "215\n",
      "211\n"
     ]
    }
   ],
   "source": [
    "# Top 10 longest codes \n",
    "sorted_code_lengths = sorted(code_lengths, key = lambda t: -t[0])\n",
    "\n",
    "print(\"Length of 10 longest text+codes\")\n",
    "for i in range(10): \n",
    "    print(sorted_code_lengths[i][0])"
   ]
  },
  {
   "cell_type": "code",
   "execution_count": 35,
   "id": "f9805404",
   "metadata": {},
   "outputs": [
    {
     "name": "stdout",
     "output_type": "stream",
     "text": [
      "# assume that f ( 1 ) = 0 and f ( m + n ) = f ( m ) + f ( n ) + 4 ( 9 mn - 1 ) . for all natural numbers ( integers > 0 ) m and n . what is the value of f ( 17 ) ? n0 = 1.0 n1 = 0.0 n2 = 4.0 n3 = 9.0 n4 = 1.0 n5 = 0.0 n6 = 17.0\n",
      "n0 = 1.0\n",
      "n1 = 0.0\n",
      "n2 = 4.0\n",
      "n3 = 9.0\n",
      "n4 = 1.0\n",
      "n5 = 0.0\n",
      "n6 = 17.0\n",
      "t0 = 1.0 + 4.0\n",
      "t1 = 2.0 * 4.0\n",
      "t2 = n2 * 10.0\n",
      "t3 = n6 * 4.0\n",
      "t4 = t2 + 3.0\n",
      "t5 = n3 + t3\n",
      "t6 = n2 * t1\n",
      "t7 = t0 * 100.0\n",
      "t8 = t6 + t6\n",
      "t9 = t6 + 3.0\n",
      "t10 = t4 + 100.0\n",
      "t11 = t5 - 2.0\n",
      "t12 = t7 + t11\n",
      "t13 = n2 * t9\n",
      "t14 = n2 * t10\n",
      "t15 = t8 + t13\n",
      "t16 = t12 * 4.0\n",
      "t17 = t15 + t15\n",
      "t18 = t17 + t14\n",
      "t19 = t18 + t18\n",
      "t20 = t19 + t16\n",
      "answer = t20 + t14\n"
     ]
    },
    {
     "data": {
      "text/plain": [
       "257"
      ]
     },
     "execution_count": 35,
     "metadata": {},
     "output_type": "execute_result"
    }
   ],
   "source": [
    "# Out of curiosity, show the longest code\n",
    "idx = sorted_code_lengths[0][1]\n",
    "ex = evals[idx]\n",
    "\n",
    "print(ex.text + '\\n' + ex.code)\n",
    "len(tokenizer.encode(ex.code))"
   ]
  },
  {
   "cell_type": "markdown",
   "id": "4be40a31",
   "metadata": {},
   "source": [
    "# GSM8k"
   ]
  },
  {
   "cell_type": "code",
   "execution_count": 2,
   "id": "07ee6229",
   "metadata": {},
   "outputs": [
    {
     "name": "stdout",
     "output_type": "stream",
     "text": [
      "Natalia sold clips to 48 of her friends in April, and then she sold half as many clips in May. How many clips did Natalia sell altogether in April and May?\n",
      "\n",
      "72\n",
      "Natalia sold 48/2 = <<48/2=24>>24 clips in May.\n",
      "Natalia sold 48+24 = <<48+24=72>>72 clips altogether in April and May.\n",
      "#### 72\n"
     ]
    }
   ],
   "source": [
    "train_data = read_gsm8k(\"gsm8k/gsm8k_train.jsonl\")\n",
    "print(train_data[0])"
   ]
  },
  {
   "cell_type": "code",
   "execution_count": 25,
   "id": "741bde2c",
   "metadata": {},
   "outputs": [
    {
     "name": "stdout",
     "output_type": "stream",
     "text": [
      "Aubrey has a deck of cards with 52 cards in it. She then adds two additional cards to the deck. If she splits the deck evenly among herself and two other players, how many cards does each player have?\n",
      "\n",
      "18\n",
      "The deck has 54 cards because 52 + 2 = <<52+2=54>>54\n",
      "There are three players because 1 + 2 = <<1+2=3>>3\n",
      "Each player gets 18 cards because 54 / 3 = <<54/3=18>>18\n",
      "#### 18\n",
      "There were 50 racers in a bicycle charity race at the beginning of the race. After 20 minutes, 30 more racers joined the race. The total number of racers doubled after another 30 minutes. If at the end of the race only 130 people finished the race, what's the total number of people who dropped before finishing the race?\n",
      "\n",
      "30\n",
      "At the start, there were 50 racers, who were joined by 30 more racers, thus 50+30 =<<50+30=80>>80 racers\n",
      "After 30 more minutes, the number of racers doubled, totaling 80*2 = 160 racers.\n",
      "If the number of racers who finished is 130, the 160-130 = 30 racers dropped before finishing.\n",
      "#### 30\n",
      "Haley has 5 more necklaces than Jason. Josh has half the number of necklaces as Jason. If Haley has 25 necklaces, how many more necklaces does Haley have than Josh?\n",
      "\n",
      "15\n",
      "Jason has 25-5 = <<25-5=20>>20 necklaces.\n",
      "Josh has 20/2 = <<20/2=10>>10 necklaces.\n",
      "Haley has 25-10 = <<25-10=15>>15 more necklaces than Josh.\n",
      "#### 15\n",
      "Kevin has a shoebox filled with toads.  Every day, Kevin feeds each toad 3 worms.  It takes Kevin 15 minutes to find each worm.  If it takes Kevin 6 hours to find enough worms to feed all of his toads, how many toads does Kevin have in his shoebox?\n",
      "\n",
      "8\n",
      "If it takes 15 minutes to find each worm, then he catches 60/15 = <<60/15=4>>4 worms per hour.\n",
      "In 6 hours, Kevin catches 4 * 6 = <<4*6=24>>24 worms.\n",
      "If he feeds each toad 3 worms, then he has 24/3 = <<24/3=8>>8 toads in his shoebox.\n",
      "#### 8\n",
      "Billy is reducing raspberry juice down to make syrup. He reduces 6 quarts of juice to 1/12 of its original volume, then adds 1 cup of sugar. What is the final volume of the syrup in cups? (There are 4 cups in a quart)\n",
      "\n",
      "3\n",
      "First find the total number of cups of juice: 6 quarts * 4 cups/quart = <<6*4=24>>24 cups\n",
      "Then find the reduced volume of the juice: 24 cups * 1/12 = <<24*1/12=2>>2 cups\n",
      "Then add the volume of the sugar to find the total volume of the syrup: 2 cups + 1 cups = <<2+1=3>>3 cups\n",
      "#### 3\n",
      "Austin has 10 pairs of dress shoes he needs to polish over the weekend.  If he has polished 45% of individual shoes, how many more shoes does he need to polish?\n",
      "\n",
      "11\n",
      "He has 10 pairs of shoes and each pair is made of 2 individual shoes for a total of 10*2 = <<10*2=20>>20 shoes\n",
      "He has already polished 45% of the 20 individual shoes so he has polished .45*20 = <<45*.01*20=9>>9 shoes\n",
      "He has 20 shoes and has already polished 9 shoes so he has 20-9 = <<20-9=11>>11 more shoes to polish\n",
      "#### 11\n",
      "Willow’s daughter had a slumber party with 3 of her friends.  For breakfast, they wanted pancakes.  Willow’s pancake recipe makes 1 serving of 4 pancakes.  Each of the girls wanted a serving and a half of pancakes.  Willow’s son wanted 3 servings of pancakes.  How many single pancakes will Willow make for the girls and her son?\n",
      "\n",
      "36\n",
      "The daughter and her 3 friends each want 1.5 servings of pancakes so that’s 4*1.5 = <<1.5*4=6>>6 servings of pancakes\n",
      "Willow’s son wants 3 servings of pancakes and the girls want 6 so that’s 3+6 = <<3+6=9>>9 servings of pancakes\n",
      "Each serving makes 4 pancakes and Willow needs to make 9 servings for a total of 4*9 = <<4*9=36>>36 pancakes\n",
      "#### 36\n",
      "Marcus wants to buy a new pair of shoes. He decided to pay not more than $130 for them. He found a pair for $120, on which he got a discount of 30%. How much money will he manage to save by buying these shoes and not spending the assumed maximum amount?\n",
      "\n",
      "46\n",
      "The discount on the shoes Marcus found is 120 * 30/100 = $<<120*30/100=36>>36.\n",
      "That means he only had to pay 120 - 36 = $<<120-36=84>>84.\n",
      "So Marcus was able to save 130 - 84 = $<<130-84=46>>46.\n",
      "#### 46\n",
      "Kendy made 2 online bank transactions. She transferred $60 to her mom and half that amount to her sister. As a result, her account now has $100 left in it. How much money was in the account before the transfer?\n",
      "\n",
      "190\n",
      "Kendy transferred $60 x 1/2 = $<<60*1/2=30>>30 to her sister.\n",
      "So, She transferred a total of $60 + $30 = $<<60+30=90>>90.\n",
      "Therefore, Kendy has $100 + $90 = $<<100+90=190>>190 in the account before the transfer.\n",
      "#### 190\n",
      "Jake is from a conservative household so during lunch at school one day, he gave one-quarter of his feeding allowance to a hungry friend. If candies cost 20 cents apiece and Jake's feeding allowance is $4, how many candies can his friend purchase with the money Jake gave to him?\n",
      "\n",
      "5\n",
      "One quarter of $4 is (1/4)*$4 = $<<(1/4)*4=1>>1\n",
      "$1 is equivalent to 100 cents\n",
      "20 cents will buy 1 candy so 100 cents will buy 100/20 = <<100/20=5>>5 candies\n",
      "#### 5\n"
     ]
    }
   ],
   "source": [
    "longest = sorted(train_data, key = lambda x: -x.reasoning.count(\"\\n\")+1)\n",
    "\n",
    "for thing in longest[4000:4010]: \n",
    "    print(thing)"
   ]
  }
 ],
 "metadata": {
  "kernelspec": {
   "display_name": "Python 3 (ipykernel)",
   "language": "python",
   "name": "python3"
  },
  "language_info": {
   "codemirror_mode": {
    "name": "ipython",
    "version": 3
   },
   "file_extension": ".py",
   "mimetype": "text/x-python",
   "name": "python",
   "nbconvert_exporter": "python",
   "pygments_lexer": "ipython3",
   "version": "3.9.7"
  }
 },
 "nbformat": 4,
 "nbformat_minor": 5
}
