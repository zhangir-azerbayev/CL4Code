{
 "cells": [
  {
   "cell_type": "markdown",
   "metadata": {},
   "source": [
    "## Notebook used for exploring WebquestionsSP dataset and saving data in proper format\n",
    "\n",
    "To use, download WebQSP zip file from https://www.microsoft.com/en-us/download/details.aspx?id=52763 and unzip in the CL4Code folder."
   ]
  },
  {
   "cell_type": "code",
   "execution_count": 19,
   "metadata": {},
   "outputs": [
    {
     "name": "stdout",
     "output_type": "stream",
     "text": [
      "/data/lily/nos6/CL4Code/WebQSP/data\n",
      "dict_keys(['Version', 'FreebaseVersion', 'Questions'])\n"
     ]
    }
   ],
   "source": [
    "import json\n",
    "\n",
    "%cd ~/CL4Code/WebQSP/data\n",
    "\n",
    "\n",
    "fp = open(\"WebQSP.train.json\", \"r\")\n",
    "dataset = json.load(fp)\n",
    "\n",
    "print(dataset.keys())"
   ]
  },
  {
   "cell_type": "code",
   "execution_count": 23,
   "metadata": {},
   "outputs": [
    {
     "name": "stdout",
     "output_type": "stream",
     "text": [
      "dict_keys(['QuestionId', 'RawQuestion', 'ProcessedQuestion', 'Parses'])\n",
      "{'QuestionId': 'WebQTrn-0', 'RawQuestion': 'what is the name of justin bieber brother?', 'ProcessedQuestion': 'what is the name of justin bieber brother', 'Parses': [{'ParseId': 'WebQTrn-0.P0', 'AnnotatorId': 1, 'AnnotatorComment': {'ParseQuality': 'Complete', 'QuestionQuality': 'Good', 'Confidence': 'Normal', 'FreeFormComment': 'First-round parse verification'}, 'Sparql': \"PREFIX ns: <http://rdf.freebase.com/ns/>\\nSELECT DISTINCT ?x\\nWHERE {\\nFILTER (?x != ns:m.06w2sn5)\\nFILTER (!isLiteral(?x) OR lang(?x) = '' OR langMatches(lang(?x), 'en'))\\nns:m.06w2sn5 ns:people.person.sibling_s ?y .\\n?y ns:people.sibling_relationship.sibling ?x .\\n?x ns:people.person.gender ns:m.05zppz .\\n}\\n\", 'PotentialTopicEntityMention': 'justin bieber', 'TopicEntityName': 'Justin Bieber', 'TopicEntityMid': 'm.06w2sn5', 'InferentialChain': ['people.person.sibling_s', 'people.sibling_relationship.sibling'], 'Constraints': [{'Operator': 'Equal', 'ArgumentType': 'Entity', 'Argument': 'm.05zppz', 'EntityName': 'Male', 'SourceNodeIndex': 1, 'NodePredicate': 'people.person.gender', 'ValueType': 'String'}], 'Time': None, 'Order': None, 'Answers': [{'AnswerType': 'Entity', 'AnswerArgument': 'm.0gxnnwq', 'EntityName': 'Jaxon Bieber'}]}]}\n"
     ]
    }
   ],
   "source": [
    "print(dataset['Questions'][0].keys())\n",
    "print(dataset['Questions'][0])"
   ]
  },
  {
   "cell_type": "code",
   "execution_count": 38,
   "metadata": {},
   "outputs": [
    {
     "name": "stdout",
     "output_type": "stream",
     "text": [
      "[{'ParseId': 'WebQTrn-0.P0', 'AnnotatorId': 1, 'AnnotatorComment': {'ParseQuality': 'Complete', 'QuestionQuality': 'Good', 'Confidence': 'Normal', 'FreeFormComment': 'First-round parse verification'}, 'Sparql': \"PREFIX ns: <http://rdf.freebase.com/ns/>\\nSELECT DISTINCT ?x\\nWHERE {\\nFILTER (?x != ns:m.06w2sn5)\\nFILTER (!isLiteral(?x) OR lang(?x) = '' OR langMatches(lang(?x), 'en'))\\nns:m.06w2sn5 ns:people.person.sibling_s ?y .\\n?y ns:people.sibling_relationship.sibling ?x .\\n?x ns:people.person.gender ns:m.05zppz .\\n}\\n\", 'PotentialTopicEntityMention': 'justin bieber', 'TopicEntityName': 'Justin Bieber', 'TopicEntityMid': 'm.06w2sn5', 'InferentialChain': ['people.person.sibling_s', 'people.sibling_relationship.sibling'], 'Constraints': [{'Operator': 'Equal', 'ArgumentType': 'Entity', 'Argument': 'm.05zppz', 'EntityName': 'Male', 'SourceNodeIndex': 1, 'NodePredicate': 'people.person.gender', 'ValueType': 'String'}], 'Time': None, 'Order': None, 'Answers': [{'AnswerType': 'Entity', 'AnswerArgument': 'm.0gxnnwq', 'EntityName': 'Jaxon Bieber'}]}]\n",
      "{'ParseId': 'WebQTrn-18.P1', 'AnnotatorId': 1, 'AnnotatorComment': {'ParseQuality': 'Complete', 'QuestionQuality': 'Good', 'Confidence': 'Normal', 'FreeFormComment': 'First-round parse verification'}, 'Sparql': \"PREFIX ns: <http://rdf.freebase.com/ns/>\\nSELECT DISTINCT ?x\\nWHERE {\\nFILTER (?x != ns:m.018rv0)\\nFILTER (!isLiteral(?x) OR lang(?x) = '' OR langMatches(lang(?x), 'en'))\\nns:m.018rv0 ns:book.author.works_written ?x .\\n}\\n\", 'PotentialTopicEntityMention': 'beverly cleary', 'TopicEntityName': 'Beverly Cleary', 'TopicEntityMid': 'm.018rv0', 'InferentialChain': ['book.author.works_written'], 'Constraints': [], 'Time': None, 'Order': None, 'Answers': [{'AnswerType': 'Entity', 'AnswerArgument': 'm.027_9rs', 'EntityName': 'Ribsy'}, {'AnswerType': 'Entity', 'AnswerArgument': 'm.027jhr9', 'EntityName': \"Ramona's World\"}, {'AnswerType': 'Entity', 'AnswerArgument': 'm.0282mb3', 'EntityName': 'Beezus and Ramona'}, {'AnswerType': 'Entity', 'AnswerArgument': 'm.02dtqf', 'EntityName': 'Ramona'}, {'AnswerType': 'Entity', 'AnswerArgument': 'm.02w8svt', 'EntityName': 'Henry Huggins'}, {'AnswerType': 'Entity', 'AnswerArgument': 'm.03h3h8g', 'EntityName': 'Socks'}, {'AnswerType': 'Entity', 'AnswerArgument': 'm.04j9kng', 'EntityName': 'Fifteen'}, {'AnswerType': 'Entity', 'AnswerArgument': 'm.04t31l_', 'EntityName': \"Petey's bedtime story\"}, {'AnswerType': 'Entity', 'AnswerArgument': 'm.04t31m_', 'EntityName': 'The Luckiest Girl'}, {'AnswerType': 'Entity', 'AnswerArgument': 'm.04t31m7', 'EntityName': 'The Ralph Mouse Collection'}, {'AnswerType': 'Entity', 'AnswerArgument': 'm.04t31mr', 'EntityName': 'Two times the fun'}, {'AnswerType': 'Entity', 'AnswerArgument': 'm.04t31n_', 'EntityName': 'Ramona la chinche'}, {'AnswerType': 'Entity', 'AnswerArgument': 'm.04t31n7', 'EntityName': 'Querido señor Henshaw'}, {'AnswerType': 'Entity', 'AnswerArgument': 'm.04t31nr', 'EntityName': 'The growing-up feet'}, {'AnswerType': 'Entity', 'AnswerArgument': 'm.04t31p_', 'EntityName': 'My own two feet'}, {'AnswerType': 'Entity', 'AnswerArgument': 'm.04t31ph', 'EntityName': 'A girl from Yamhill'}, {'AnswerType': 'Entity', 'AnswerArgument': 'm.04t31pr', 'EntityName': 'Muggie Maggie'}, {'AnswerType': 'Entity', 'AnswerArgument': 'm.04t31q_', 'EntityName': 'Beverly Cleary First Love Treasury Three Complete Novels'}, {'AnswerType': 'Entity', 'AnswerArgument': 'm.04t31q7', 'EntityName': 'Ribsy CD'}, {'AnswerType': 'Entity', 'AnswerArgument': 'm.04t31r_', 'EntityName': 'The Ramona Collection, Vol. 1'}, {'AnswerType': 'Entity', 'AnswerArgument': 'm.04t31r7', 'EntityName': 'Jean and Johnny'}, {'AnswerType': 'Entity', 'AnswerArgument': 'm.04t31rh', 'EntityName': \"Janet's thingamajigs\"}, {'AnswerType': 'Entity', 'AnswerArgument': 'm.04t31rr', 'EntityName': 'Lucky Chuck'}, {'AnswerType': 'Entity', 'AnswerArgument': 'm.04t31s_', 'EntityName': 'Ramona y su madre'}, {'AnswerType': 'Entity', 'AnswerArgument': 'm.04t31s7', 'EntityName': 'The Best of Ramona'}, {'AnswerType': 'Entity', 'AnswerArgument': 'm.04t31sh', 'EntityName': 'Ramona empieza el curso'}, {'AnswerType': 'Entity', 'AnswerArgument': 'm.04t31sr', 'EntityName': 'The hullabaloo ABC'}, {'AnswerType': 'Entity', 'AnswerArgument': 'm.04ymrh0', 'EntityName': 'The Ramona Collection, Vol. 2'}, {'AnswerType': 'Entity', 'AnswerArgument': 'm.0675bfc', 'EntityName': 'Viva Ramona/Ramona Forever'}, {'AnswerType': 'Entity', 'AnswerArgument': 'm.067jmqc', 'EntityName': 'Ramona. ( Ab 8 J.)'}, {'AnswerType': 'Entity', 'AnswerArgument': 'm.068v3gn', 'EntityName': 'Henry & Ramona'}, {'AnswerType': 'Entity', 'AnswerArgument': 'm.069v9cy', 'EntityName': 'Mouse House Trio'}, {'AnswerType': 'Entity', 'AnswerArgument': 'm.06cdy8k', 'EntityName': 'The real hole'}, {'AnswerType': 'Entity', 'AnswerArgument': 'm.06g4ynz', 'EntityName': 'Ramona Boxed Set (4 Volumes)'}, {'AnswerType': 'Entity', 'AnswerArgument': 'm.06j4krb', 'EntityName': 'Newbery Medal Bookshelf'}, {'AnswerType': 'Entity', 'AnswerArgument': 'm.06jd174', 'EntityName': 'Signé, Lou'}, {'AnswerType': 'Entity', 'AnswerArgument': 'm.06jmfjq', 'EntityName': 'Young Love by Beverly Cleary'}, {'AnswerType': 'Entity', 'AnswerArgument': 'm.06k7r8g', 'EntityName': 'El ratoncito de la moto'}, {'AnswerType': 'Entity', 'AnswerArgument': 'm.06lqckd', 'EntityName': 'Ramona oder eine wirklich nette Familie. ( Ab 8 J.)'}, {'AnswerType': 'Entity', 'AnswerArgument': 'm.06m9l6p', 'EntityName': 'Ramona und das neue Baby. ( Ab 8 J.)'}, {'AnswerType': 'Entity', 'AnswerArgument': 'm.06msr6m', 'EntityName': 'Bisus und Ramona. ( Ab 8 J.)'}, {'AnswerType': 'Entity', 'AnswerArgument': 'm.06mxxl9', 'EntityName': 'Ramona Su Madre'}, {'AnswerType': 'Entity', 'AnswerArgument': 'm.06n9g_5', 'EntityName': 'Ramona hilft Papa. ( Ab 8 J.)'}, {'AnswerType': 'Entity', 'AnswerArgument': 'm.06pg_zt', 'EntityName': 'The Newbery Award Library'}, {'AnswerType': 'Entity', 'AnswerArgument': 'm.06qw9n7', 'EntityName': 'Cutting Up with Ramona'}, {'AnswerType': 'Entity', 'AnswerArgument': 'm.06s_1cd', 'EntityName': 'Garde conjointe'}, {'AnswerType': 'Entity', 'AnswerArgument': 'm.06v3b75', 'EntityName': 'Cleary AWBC 54c Mix Ppk'}, {'AnswerType': 'Entity', 'AnswerArgument': 'm.06w2v38', 'EntityName': 'Henry and the Paper Route'}, {'AnswerType': 'Entity', 'AnswerArgument': 'm.06wytx', 'EntityName': 'Ralph S. Mouse'}, {'AnswerType': 'Entity', 'AnswerArgument': 'm.06xz23', 'EntityName': 'Dear Mr. Henshaw'}, {'AnswerType': 'Entity', 'AnswerArgument': 'm.07392n', 'EntityName': 'The Mouse and the Motorcycle'}, {'AnswerType': 'Entity', 'AnswerArgument': 'm.076nfp', 'EntityName': 'Strider'}, {'AnswerType': 'Entity', 'AnswerArgument': 'm.098p74', 'EntityName': 'Ramona the Pest'}, {'AnswerType': 'Entity', 'AnswerArgument': 'm.0b__r_m', 'EntityName': 'Henry and Beezus'}, {'AnswerType': 'Entity', 'AnswerArgument': 'm.0bkdwj', 'EntityName': 'Sister of the Bride'}, {'AnswerType': 'Entity', 'AnswerArgument': 'm.0bkfrx', 'EntityName': 'Otis Spofford'}, {'AnswerType': 'Entity', 'AnswerArgument': 'm.0cqmmy', 'EntityName': 'Henry and Ribsy'}, {'AnswerType': 'Entity', 'AnswerArgument': 'm.0f2z7p', 'EntityName': 'Mitch and Amy'}, {'AnswerType': 'Entity', 'AnswerArgument': 'm.0f2zkt', 'EntityName': 'Ramona the Brave'}, {'AnswerType': 'Entity', 'AnswerArgument': 'm.0f3n3s', 'EntityName': 'Ramona and Her Father'}, {'AnswerType': 'Entity', 'AnswerArgument': 'm.0f3n8m', 'EntityName': 'Ramona and Her Mother'}, {'AnswerType': 'Entity', 'AnswerArgument': 'm.0f3nw6', 'EntityName': 'Ellen Tebbits'}, {'AnswerType': 'Entity', 'AnswerArgument': 'm.0fgq4n', 'EntityName': 'Ramona Quimby, Age 8'}, {'AnswerType': 'Entity', 'AnswerArgument': 'm.0fjnyr', 'EntityName': 'Ramona Forever'}, {'AnswerType': 'Entity', 'AnswerArgument': 'm.0ftgff', 'EntityName': 'Runaway Ralph'}, {'AnswerType': 'Entity', 'AnswerArgument': 'm.0j1035n', 'EntityName': 'Henry and the Clubhouse'}, {'AnswerType': 'Entity', 'AnswerArgument': 'm.0j7kzd7', 'EntityName': \"Emily's Runaway Imagination\"}]}\n",
      "dict_keys(['ParseId', 'AnnotatorId', 'AnnotatorComment', 'Sparql', 'PotentialTopicEntityMention', 'TopicEntityName', 'TopicEntityMid', 'InferentialChain', 'Constraints', 'Time', 'Order', 'Answers'])\n"
     ]
    }
   ],
   "source": [
    "print(dataset['Questions'][0]['Parses'])\n",
    "for i in range(0, len(dataset['Questions'])):\n",
    "    if len(dataset['Questions'][i]['Parses']) != 1:\n",
    "        print(dataset['Questions'][i]['Parses'][1])\n",
    "        break\n",
    "        \n",
    "print(dataset['Questions'][0]['Parses'][0].keys())"
   ]
  },
  {
   "cell_type": "code",
   "execution_count": 61,
   "metadata": {},
   "outputs": [],
   "source": [
    "def load_all_items(dataset):\n",
    "    instance_list = []\n",
    "\n",
    "    for item in dataset['Questions']:\n",
    "        \n",
    "        instance = {}\n",
    "        instance['question'] = item['RawQuestion']\n",
    "        instance['task_id'] = item['QuestionId']\n",
    "        instance['dsl_code'] = []\n",
    "        instance['answer'] = []\n",
    "        \n",
    "        # add all parses and answers to the instance\n",
    "        if len(item['Parses']) > 0:\n",
    "            \n",
    "            for parse in item['Parses']:\n",
    "                # matching eval script provided by Microsoft, filter by good quality items\n",
    "                if parse['AnnotatorComment']['QuestionQuality'] == 'Good' and parse['AnnotatorComment']['ParseQuality'] == 'Complete':\n",
    "                    instance['dsl_code'].append(parse['Sparql'])\n",
    "                    \n",
    "                    for answer in parse['Answers']:\n",
    "                        if answer['EntityName'] not in instance['answer']:\n",
    "                            instance['answer'].append(answer['EntityName'])\n",
    "                        \n",
    "                    \n",
    "\n",
    "            instance_list.append(instance)\n",
    "\n",
    "        else:\n",
    "            instance = None\n",
    "    \n",
    "    return instance_list\n",
    "\n",
    "instance_list = load_all_items(dataset)\n",
    "\n",
    "with open('../../cl/data/webqsp_train.json', 'w+') as f: \n",
    "    json.dump(instance_list, f)\n",
    "\n"
   ]
  },
  {
   "cell_type": "code",
   "execution_count": 62,
   "metadata": {},
   "outputs": [],
   "source": [
    "fp = open(\"WebQSP.test.json\", \"r\")\n",
    "test_dataset = json.load(fp)\n",
    "\n",
    "test_list = load_all_items(test_dataset)\n",
    "\n",
    "with open('../../cl/data/webqsp_test.json', 'w+') as f: \n",
    "    json.dump(test_list, f)"
   ]
  }
 ],
 "metadata": {
  "interpreter": {
   "hash": "30295c5bec572e859485b1ffa5e89b8b3e2022ef6e3e739c1ac40f143a557caf"
  },
  "kernelspec": {
   "display_name": "Python 3.6.15 64-bit",
   "language": "python",
   "name": "python3"
  },
  "language_info": {
   "codemirror_mode": {
    "name": "ipython",
    "version": 3
   },
   "file_extension": ".py",
   "mimetype": "text/x-python",
   "name": "python",
   "nbconvert_exporter": "python",
   "pygments_lexer": "ipython3",
   "version": "3.6.9"
  },
  "orig_nbformat": 4
 },
 "nbformat": 4,
 "nbformat_minor": 2
}
